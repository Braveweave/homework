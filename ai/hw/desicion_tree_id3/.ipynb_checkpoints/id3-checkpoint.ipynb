{
 "metadata": {
  "name": "",
  "signature": "sha256:a3f6e58a6fa1df543039022e67ab0a05049285c42a9ddd0af4f961acddc933fa"
 },
 "nbformat": 3,
 "nbformat_minor": 0,
 "worksheets": []
}